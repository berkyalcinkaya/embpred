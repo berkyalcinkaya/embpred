{
 "cells": [
  {
   "cell_type": "code",
   "execution_count": null,
   "metadata": {},
   "outputs": [],
   "source": [
    "%matplotlib inline\n",
    "import matplotlib.pyplot as plt\n",
    "import numpy as np\n",
    "import torch\n",
    "from torch.utils.data import DataLoader, TensorDataset, WeightedRandomSampler\n",
    "\n",
    "# create dummy dataset\n",
    "num_samples = 1024\n",
    "data = torch.randn(num_samples,10) # dummy data\n",
    "num_high_freq_samples = int(num_samples * 0.9)\n",
    "targets = [0] * num_high_freq_samples + [1] * (num_samples - num_high_freq_samples)\n",
    "\n",
    "## convert targets to LongTensor\n",
    "targets = torch.LongTensor(targets)\n",
    "\n",
    "# Create DataSet and DataLoader\n",
    "dataset = TensorDataset(data,targets)\n",
    "dataloader = DataLoader(dataset,batch_size=128, num_workers=1, shuffle=True)"
   ]
  },
  {
   "cell_type": "code",
   "execution_count": null,
   "metadata": {},
   "outputs": [],
   "source": []
  }
 ],
 "metadata": {
  "kernelspec": {
   "display_name": "vaccine",
   "language": "python",
   "name": "python3"
  },
  "language_info": {
   "name": "python",
   "version": "3.12.4"
  }
 },
 "nbformat": 4,
 "nbformat_minor": 2
}
